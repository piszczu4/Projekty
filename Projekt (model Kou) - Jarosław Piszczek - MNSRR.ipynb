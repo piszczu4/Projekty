{
 "cells": [
  {
   "cell_type": "code",
   "execution_count": 1,
   "metadata": {},
   "outputs": [],
   "source": [
    "import numpy as np\n",
    "import pandas as pd\n",
    "import matplotlib.pyplot as plt\n",
    "from sklearn.linear_model import LinearRegression\n",
    "import time"
   ]
  },
  {
   "cell_type": "markdown",
   "metadata": {},
   "source": [
    "# Model Kou"
   ]
  },
  {
   "cell_type": "markdown",
   "metadata": {},
   "source": [
    "Model Kou to model dyfuzji skokowej, w którym proces ceny instrumentu bazowego (już przy mierze martyngałowej  $\\mathbb{Q}$) spełnia następujące stochastyczne równanie różniczkowe:\n",
    "### $$dS_{t}=\\underbrace{\\left(r-q-\\lambda\\zeta\\right)S_{t}}_{a(S_t)}dt+\\underbrace{\\sigma S_{t}}_{b(S_t)}dW_{t}+\\underbrace{S_{t-}}_{c(S_{t-})}dJ_{t}$$\n",
    "\n",
    "\n",
    "gdzie:\n",
    "\n",
    "\n",
    "• $r$ - stopa wolna od ryzyka\n",
    "\n",
    "• $q$ - stopa dywidendy\n",
    "\n",
    "• $\\zeta=\\frac{p\\eta_{1}}{\\eta_{1}-1}+\\frac{q\\eta_{2}}{\\eta_{2}+1}-1$\n",
    "\n",
    "• $\\sigma>0$ - parametr zmienności \n",
    "\n",
    "• $W$ - proces Wienera\n",
    "\n",
    "• $\\displaystyle J_t =\\sum_{k=1}^{N_{t}}(V_{k} - 1)$ - złożony proces Poissona z parametrem intensywności $\\lambda >0$, gdzie $Z_k = \\ln{(V_{k})}$ ma rozkład $\\textbf{podwójnie wykładniczy}$ o gęstości \n",
    "\n",
    "#### $$f_{Z}\\left(z\\right)=p\\eta_{1}e^{-\\eta_{1}z}1_{\\{z\\geq0\\}}+\\left(1-p\\right)\\eta_{2}e^{\\eta_{2}z}1_{\\{z<0\\}},$$\n",
    "\n",
    "gdzie $\\eta_{1}>1$, $\\eta_{2}>0$, natomiast $p\\in\\left[0,1\\right]$ interpretujemy jako prawdopodobieństwo skoku w górę. Innymi słowy \n",
    "#### $$Z_{k}=\\ln\\left(V_{k}\\right)\\stackrel{d}{=}\\begin{cases}\n",
    "\\xi^{+}, & \\text{z prawdopodobieństwem }p\\\\\n",
    "-\\xi^{-}, & \\text{z prawdopodobieństwem }1-p\n",
    "\\end{cases},$$\n",
    "gdzie $\\xi^{+}$ i $\\xi^{-}$ mają rozkład wykładniczy odpowiednio z parametrami $\\eta_{1}$ i $\\eta_{2}$. \n",
    "\n",
    "\n",
    "Rozwiązaniem omawianego stochastycznego równania różniczkowego jest proces: \n",
    "### $$\\boxed{S_{t}=S_{0}e^{\\left(r-q-\\lambda\\zeta-\\frac{\\sigma^{2}}{2}\\right)t+\\sigma W_{t}+\\sum_{k=1}^{N_{t}}Z_{k}}}$$\n"
   ]
  },
  {
   "cell_type": "code",
   "execution_count": 2,
   "metadata": {},
   "outputs": [],
   "source": [
    "# Parametry \n",
    "S0 = 100\n",
    "r = 0.019\n",
    "q = 0.012\n",
    "T = 1\n",
    "sigma = 0.2\n",
    "lam = 5\n",
    "p = 0.5\n",
    "eta_1 = 20\n",
    "eta_2 = 30\n",
    "N = 252 \n",
    "\n",
    "zeta = (p * eta_1) / (eta_1 - 1) + ((1 - p) * eta_2) / (eta_2 + 1) - 1\n",
    "dryf = r - q - lam * zeta"
   ]
  },
  {
   "cell_type": "code",
   "execution_count": 3,
   "metadata": {},
   "outputs": [],
   "source": [
    "# Współczyniki równania różniczkowego\n",
    "\n",
    "def a(x):\n",
    "    return dryf * x\n",
    "\n",
    "def b(x):\n",
    "    return sigma * x\n",
    "\n",
    "def c(x):\n",
    "    return x\n",
    "\n",
    "# pochodne cząstkowe po x\n",
    "\n",
    "def a_x(x):\n",
    "    return dryf \n",
    "\n",
    "def a_xx(x):\n",
    "    return 0\n",
    "\n",
    "def b_x(x):\n",
    "    return sigma\n",
    "\n",
    "def b_xx(x):\n",
    "    return 0"
   ]
  },
  {
   "cell_type": "markdown",
   "metadata": {},
   "source": [
    "### Proces Wienera"
   ]
  },
  {
   "cell_type": "code",
   "execution_count": 4,
   "metadata": {},
   "outputs": [],
   "source": [
    "# Trajektorie procesu Wienera\n",
    "\n",
    "def Wiener_path(T, N):\n",
    "    \n",
    "    h = float(T / N)\n",
    "    sq_h = np.sqrt(h)\n",
    "    \n",
    "    t = np.linspace(0, T, N + 1)\n",
    "    W = np.zeros(N + 1)\n",
    "    \n",
    "    Normals = np.random.normal(0, 1, N)\n",
    "\n",
    "    for i in range(N):\n",
    "        W[i + 1] = W[i] + sq_h * Normals[i]\n",
    "        \n",
    "    return t, W"
   ]
  },
  {
   "cell_type": "markdown",
   "metadata": {},
   "source": [
    "### Złożony proces Poissona (skoki o rozkładzie podwójnie wykładniczym)"
   ]
  },
  {
   "cell_type": "code",
   "execution_count": 5,
   "metadata": {},
   "outputs": [],
   "source": [
    "# Funkcja generująca skoki z rozkładu podwójnie wykładniczego\n",
    "\n",
    "def DExp(p, eta_1, eta_2, number_of_jumps):\n",
    "    \n",
    "        double_exp = np.zeros(number_of_jumps)\n",
    "\n",
    "        for i in range (number_of_jumps):\n",
    "            Unif = np.random.rand() \n",
    "            if Unif <= p:    # jeśli prawda to skok w góre \n",
    "                double_exp[i] = np.random.exponential(1 / eta_1)        #rozkład wykładniczy z parametrem eta_1 (w Pythonie 1/eta_1)\n",
    "            else:            # w innym wypadku skok w dół (stąd znak -)\n",
    "                double_exp[i] = - np.random.exponential(1 / eta_2)      #rozkład wykładniczy z parametrem eta_2 (w Pythonie 1/eta_2)\n",
    "\n",
    "        return double_exp  "
   ]
  },
  {
   "cell_type": "code",
   "execution_count": 6,
   "metadata": {},
   "outputs": [],
   "source": [
    "# Trajektorie złożonego procesu Poissona (metoda przyrostów)\n",
    "\n",
    "def Comp_Poiss_path(T, N, lam, p, eta_1, eta_2):\n",
    "    \n",
    "    h = float(T / N)\n",
    "    lh = lam * h\n",
    "    \n",
    "    t = np.linspace(0, T, N + 1)     # oś czasu\n",
    "\n",
    "    dN = np.random.poisson(lh, N)    # przyrosty procesu Poissona\n",
    "    N_ = np.cumsum(dN)               # trajektoria procesu Poissona \n",
    "    N_ = np.insert(N_, 0, 0.0)       # proces startuje z 0\n",
    "    \n",
    "    Y = np.zeros(N + 1)              # złożony proces Poissona\n",
    "\n",
    "    jumps = DExp(p, eta_1, eta_2, N_[-1])       # wektor przechowujący wielkości skoków, N_[-1] - liczba skoków\n",
    "\n",
    "    for i in range(1, N + 1):\n",
    "        S = 0.0\n",
    "        for k in range(N_[i]):      # N_[i] - liczba skoków do chwili t = i * h\n",
    "            S += jumps[k]           # sumujemy N_[i] skoków\n",
    "        Y[i] = S\n",
    "\n",
    "    return t, Y"
   ]
  },
  {
   "cell_type": "code",
   "execution_count": 7,
   "metadata": {},
   "outputs": [
    {
     "data": {
      "image/png": "[encoded data removed]",
      "text/plain": [
       "<Figure size 864x432 with 1 Axes>"
      ]
     },
     "metadata": {
      "needs_background": "light"
     },
     "output_type": "display_data"
    }
   ],
   "source": [
    "t,Y = Comp_Poiss_path(T, N, lam, p, eta_1, eta_2)\n",
    "\n",
    "plt.figure(figsize = (12, 6))\n",
    "plt.plot(t, Y)\n",
    "plt.xlabel('czas (w latach)', size = 12)\n",
    "plt.ylabel('$S(t)$', size = 12)\n",
    "plt.title(\"Trajektorie złożonego procesu Poissona - rozkład podwójnie wykładniczy\")\n",
    "plt.grid()\n",
    "plt.show()"
   ]
  },
  {
   "cell_type": "markdown",
   "metadata": {},
   "source": [
    "### Trajektorie w modelu Kou (rozwiązanie dokładne)"
   ]
  },
  {
   "cell_type": "code",
   "execution_count": 8,
   "metadata": {},
   "outputs": [],
   "source": [
    "# Trajektoria z rozwiązania dokładnego\n",
    "\n",
    "def exact_path(S0, T, N, r, q, sigma, lam, p, eta_1, eta_2):\n",
    "    \n",
    "    Y = Comp_Poiss_path(T, N, lam, p, eta_1, eta_2)[1]\n",
    "    W = Wiener_path(T, N)[1]\n",
    "    \n",
    "    t = np.linspace(0, T, N + 1)\n",
    "    S = np.zeros(N + 1)\n",
    "    \n",
    "    zeta = (p * eta_1) / (eta_1 - 1) + ((1 - p) * eta_2) / (eta_2 + 1) - 1\n",
    "    dryf = r - q - lam * zeta - 0.5 * sigma ** 2\n",
    "    \n",
    "    S = S0 * np.exp(dryf * t + sigma * W + Y)\n",
    "    \n",
    "    return t, S"
   ]
  },
  {
   "cell_type": "code",
   "execution_count": 9,
   "metadata": {},
   "outputs": [
    {
     "data": {
      "image/png": "[encoded data removed]",
      "text/plain": [
       "<Figure size 864x432 with 1 Axes>"
      ]
     },
     "metadata": {
      "needs_background": "light"
     },
     "output_type": "display_data"
    }
   ],
   "source": [
    "plt.figure(figsize = (12, 6))\n",
    "for i in range(10):\n",
    "    t, S = exact_path(S0, T, N, r, q, sigma, lam, p, eta_1, eta_2)\n",
    "    plt.plot(t, S)\n",
    "plt.xlabel('czas (w latach)', size = 12)\n",
    "plt.ylabel('$S(t)$', size = 12)\n",
    "plt.title(\"Trajektorie procesu $S$ z rozwiązania dokładnego\")\n",
    "plt.grid()\n",
    "plt.show()"
   ]
  },
  {
   "cell_type": "code",
   "execution_count": 10,
   "metadata": {},
   "outputs": [],
   "source": [
    "# Dokładna wartość procesu S w chwili T\n",
    "\n",
    "def exact_value_T(S0, T, r, q, sigma, lam, p, eta_1, eta_2, W_T, Y_T): \n",
    "                                                                                                        \n",
    "    zeta = (p * eta_1) / (eta_1 - 1) + ((1 - p) * eta_2) / (eta_2 + 1) - 1\n",
    "    dryf = r - q - lam * zeta - 0.5 * sigma ** 2\n",
    "    \n",
    "    S_T = S0 * np.exp(dryf * T + sigma * W_T + Y_T)\n",
    "    \n",
    "    return S_T"
   ]
  },
  {
   "cell_type": "markdown",
   "metadata": {},
   "source": [
    "## Schemat Eulera"
   ]
  },
  {
   "cell_type": "markdown",
   "metadata": {},
   "source": [
    "W modelu Kou, schemat Eulera wygląda następująco:\n",
    "### $$\\boxed{S_{t+\\Delta t}=S_{t}+a\\left(S_{t}\\right)\\Delta t+b\\left(S_{t}\\right)\\Delta W_{t}+c\\left(S_{t}\\right)\\Delta J_{t}}$$\n",
    "### $$\\boxed{\\Delta J_t = \\sum_{k=N_{t}+1}^{N_{t+\\Delta t}}(V_k - 1)}$$"
   ]
  },
  {
   "cell_type": "code",
   "execution_count": 11,
   "metadata": {},
   "outputs": [],
   "source": [
    "# Trajektoria ze schematu Eulera\n",
    "\n",
    "def Euler_path(S0, T, N, r, q, sigma, lam, p, eta_1, eta_2):\n",
    "    \n",
    "    S = np.zeros(N + 1)\n",
    "    S[0] = S0\n",
    "    \n",
    "    t = np.linspace(0, T, N + 1)\n",
    "    h = float(T / N)\n",
    "    sq_h = np.sqrt(h)\n",
    "    lh = lam * h\n",
    "    \n",
    "    W = 0\n",
    "    Y = 0\n",
    "    \n",
    "    for i in range(1, N + 1):\n",
    "        dN = np.random.poisson(lh)\n",
    "        jumps = DExp(p, eta_1, eta_2, dN)\n",
    "        dJ = np.sum(np.exp(jumps) - 1)\n",
    "        dW = sq_h * np.random.normal(0, 1)\n",
    "        \n",
    "        S[i] = S[i - 1] + a(S[i - 1]) * h + b(S[i - 1]) * dW + c(S[i - 1]) * dJ \n",
    "       \n",
    "        W += dW\n",
    "        Y += np.sum(jumps)    \n",
    "        \n",
    "    return t, S, W, Y"
   ]
  },
  {
   "cell_type": "markdown",
   "metadata": {},
   "source": [
    "### Asymptotyczne tempo zbieżności"
   ]
  },
  {
   "cell_type": "code",
   "execution_count": 12,
   "metadata": {},
   "outputs": [],
   "source": [
    "# Funkcja zwracająca błąd schematu z jednej trajektorii\n",
    "\n",
    "def Euler_error(S0, T, N, r, q, sigma, lam, p, eta_1, eta_2):\n",
    "    \n",
    "    S, W, Y = Euler_path(S0, T, N, r, q, sigma, lam, p, eta_1, eta_2)[1:]\n",
    "    \n",
    "    S_T_exact = exact_value_T(S0, T, r, q, sigma, lam, p, eta_1, eta_2, W, Y)\n",
    "    error = np.abs(S_T_exact - S[N])\n",
    "    \n",
    "    return error"
   ]
  },
  {
   "cell_type": "code",
   "execution_count": 13,
   "metadata": {},
   "outputs": [
    {
     "name": "stdout",
     "output_type": "stream",
     "text": [
      "Tempo zbieżności schematu Eulera wynosi:  -0.5058591801331541\n"
     ]
    },
    {
     "data": {
      "text/html": [
       "<div>\n",
       "<style scoped>\n",
       "    .dataframe tbody tr th:only-of-type {\n",
       "        vertical-align: middle;\n",
       "    }\n",
       "\n",
       "    .dataframe tbody tr th {\n",
       "        vertical-align: top;\n",
       "    }\n",
       "\n",
       "    .dataframe thead th {\n",
       "        text-align: right;\n",
       "    }\n",
       "</style>\n",
       "<table border=\"1\" class=\"dataframe\">\n",
       "  <thead>\n",
       "    <tr style=\"text-align: right;\">\n",
       "      <th></th>\n",
       "      <th>N</th>\n",
       "      <th>error</th>\n",
       "    </tr>\n",
       "  </thead>\n",
       "  <tbody>\n",
       "    <tr>\n",
       "      <th>0</th>\n",
       "      <td>10</td>\n",
       "      <td>1.011047</td>\n",
       "    </tr>\n",
       "    <tr>\n",
       "      <th>1</th>\n",
       "      <td>20</td>\n",
       "      <td>0.721697</td>\n",
       "    </tr>\n",
       "    <tr>\n",
       "      <th>2</th>\n",
       "      <td>40</td>\n",
       "      <td>0.520005</td>\n",
       "    </tr>\n",
       "    <tr>\n",
       "      <th>3</th>\n",
       "      <td>80</td>\n",
       "      <td>0.373534</td>\n",
       "    </tr>\n",
       "    <tr>\n",
       "      <th>4</th>\n",
       "      <td>160</td>\n",
       "      <td>0.253734</td>\n",
       "    </tr>\n",
       "    <tr>\n",
       "      <th>5</th>\n",
       "      <td>320</td>\n",
       "      <td>0.173824</td>\n",
       "    </tr>\n",
       "    <tr>\n",
       "      <th>6</th>\n",
       "      <td>640</td>\n",
       "      <td>0.125312</td>\n",
       "    </tr>\n",
       "    <tr>\n",
       "      <th>7</th>\n",
       "      <td>1280</td>\n",
       "      <td>0.088816</td>\n",
       "    </tr>\n",
       "  </tbody>\n",
       "</table>\n",
       "</div>"
      ],
      "text/plain": [
       "      N     error\n",
       "0    10  1.011047\n",
       "1    20  0.721697\n",
       "2    40  0.520005\n",
       "3    80  0.373534\n",
       "4   160  0.253734\n",
       "5   320  0.173824\n",
       "6   640  0.125312\n",
       "7  1280  0.088816"
      ]
     },
     "execution_count": 13,
     "metadata": {},
     "output_type": "execute_result"
    },
    {
     "data": {
      "image/png": "[encoded data removed]",
      "text/plain": [
       "<Figure size 792x432 with 1 Axes>"
      ]
     },
     "metadata": {
      "needs_background": "light"
     },
     "output_type": "display_data"
    }
   ],
   "source": [
    "k = 8\n",
    "num_of_sim = 1000\n",
    "num_of_steps = np.zeros(k, dtype = int)\n",
    "mean_errors = np.zeros(k)\n",
    "\n",
    "for i in range(k):\n",
    "    N = 10 * 2 ** i\n",
    "    num_of_steps[i] = N\n",
    "    sum_of_errors = 0\n",
    "    for j in range(num_of_sim):\n",
    "        sum_of_errors += Euler_error(S0, T, N, r, q, sigma, lam, p, eta_1, eta_2)\n",
    "    mean_errors[i] = sum_of_errors / num_of_sim\n",
    "\n",
    "X = np.log(num_of_steps)\n",
    "Y = np.log(mean_errors)\n",
    "\n",
    "X = X.reshape((-1, 1))\n",
    "model = LinearRegression().fit(X, Y)\n",
    "\n",
    "print(\"Tempo zbieżności schematu Eulera wynosi: \", model.coef_[0])\n",
    "\n",
    "# Wykres\n",
    "\n",
    "plt.figure(figsize = (11, 6))\n",
    "plt.scatter(X, Y, color = 'g')\n",
    "plt.plot(X, model.predict(X), color = 'k')\n",
    "plt.text(5, -1, '$y=$'+str(round(model.coef_[0], 4))+'$x +$'+str(round(model.intercept_, 4)), fontsize = 12, rotation = -29)\n",
    "\n",
    "d = {'N': num_of_steps, 'error' :mean_errors}\n",
    "df = pd.DataFrame(d)\n",
    "df"
   ]
  },
  {
   "cell_type": "markdown",
   "metadata": {},
   "source": [
    "## Jump-Adapted Scheme"
   ]
  },
  {
   "cell_type": "markdown",
   "metadata": {},
   "source": [
    "### Tempo zbieżności $\\gamma= 1.0$"
   ]
  },
  {
   "cell_type": "markdown",
   "metadata": {},
   "source": [
    "W metodzie rozważamy podział odcinka $\\left[0,T\\right]$ postaci \n",
    "\n",
    "### $$0=t_{0}<t_{1}<...<t_{M}=T,$$\n",
    "\n",
    "który jest połączeniem dokładnych momentów skoków $\\left\\{ \\tau_{1},\\tau_{2},...,\\tau_{N\\left(T\\right)}\\right\\}$  oraz siatki równomiernej w której pojedyńczy krok wynosi $\\Delta t=\\frac{T}{N}$. Ponieważ w siatce uwazględniamy wszystkie momenty skoków, to pomiędzy kolejnymi skokami proces $S$ jest po prostu procesem dyfuzji. \n",
    "\n",
    "Niech $S_{t_{n+1}-}=\\lim_{s\\to t_{n+1}-}S_{s}$. Wówczas omawiany schemat prezentuje się następująco:\n",
    "\n",
    "## $$\\boxed{S_{t_{n+1}-}=S_{t_{n}}+a\\left(S_{t_{n}}\\right)\\Delta_{t_{n}}+b\\left(S_{t_{n}}\\right)\\Delta W_{n}+\\frac{b\\left(S_{t_{n}}\\right)b'\\left(S_{t_{n}}\\right)}{2}\\left[\\left(\\Delta W_{t_{n}}\\right)^{2}-\\Delta_{t_{n}}\\right]}$$\n",
    "\n",
    "## $$\\boxed{S_{t_{n+1}}=S_{t_{n+1}-}+c(S_{t_{n+1}-})\\left(J_{t_{n+1}}-J_{t_{n}}\\right)}$$"
   ]
  },
  {
   "cell_type": "markdown",
   "metadata": {},
   "source": [
    "### Złożony proces Poissona (dokładne momenty skoków)"
   ]
  },
  {
   "cell_type": "code",
   "execution_count": 14,
   "metadata": {},
   "outputs": [],
   "source": [
    "def Compound_Poisson_path(T, N, lam, p, eta_1, eta_2):\n",
    "        \n",
    "    X = []  # lista zawierająca czasy oczekiwania na kolejne skoki\n",
    "    k = np.random.exponential(1 / lam)  # czas oczekiwania na skok\n",
    "    \n",
    "    while np.sum(X) + k <= T: # generujemy momenty skoków do chwili T\n",
    "        X.append(k)\n",
    "        k = np.random.exponential(1 / lam)\n",
    "\n",
    "    num_of_jumps = len(X) # liczba wszystkich skoków, czyli po prostu N(T) \n",
    "    x1 = np.zeros(num_of_jumps) # tworzymy os czasu - tyle punkow ile skokow\n",
    "    y1 = np.zeros(num_of_jumps) # wartości złożonego procesu Poissona w punktach skoków\n",
    "\n",
    "    jumps_exact = DExp(p, eta_1, eta_2, num_of_jumps) # generujemy skoki z rozkladu podwojnie wykladniczego (dla rozwiązania dokładnego)\n",
    "    jumps = np.exp(jumps_exact) - 1 # wielkosci skoków (dla jump-adapted scheme)\n",
    " \n",
    "    # trajektorie złożonego procesu Poissona dla dokładnych punktów skoków (bez chwili t = 0)\n",
    "    for i in range(num_of_jumps):\n",
    "        x1[i] = np.sum(X[:i + 1]) # oś czasu (dokładne czasy skokow) - sumujemy czasy oczekiwania na kolejne skoki\n",
    "        y1[i] = np.sum(jumps[:i + 1]) # wartość zł. pr. Poissona w punktach skoków\n",
    "    \n",
    "    h = float(T / N)\n",
    "    x2 = np.zeros(N + 1) # oś czasu (siatka równomierna)\n",
    "    y2 = np.zeros(N + 1) # wartości zł. pr. Poissona na siatce równomiernej\n",
    "        \n",
    "    # trajektorie złożonego procesu Poissona na siatce równomiernej\n",
    "    for i in range(N): \n",
    "        x2[i + 1] = x2[i] + h \n",
    "        num_of_jumps = np.sum(x1 <= x2[i + 1]) # liczba skoków do chwili x2[i + 1]\n",
    "        y2[i + 1] = np.sum(jumps[:num_of_jumps]) # wartosc zl pr. Poissona w chwili x[i + 1]        \n",
    "     \n",
    "    t = np.concatenate((x1, x2), axis=0)  # łaczymy momenty skoków z siatką równomierną\n",
    "    J = np.concatenate((y1, y2), axis=0)  # łączymy wartości zł. pr. Poissona z obu siatek\n",
    "    zipped = list(zip(t, J))  # tworzymy pary (t, J)\n",
    "    sorted_zip = sorted(zipped, key = lambda x: x[0]) # sortujemy pary rosnąco względem pierwszego elementu (czyli po czasie)\n",
    "    t = np.array([x[0] for x in sorted_zip]) # rozdzielamy posortowane już pary (t, Y) na osobne wektory (czas i wartość) \n",
    "    J = np.array([x[1] for x in sorted_zip])\n",
    "      \n",
    "    sum_of_jumps = np.sum(jumps_exact)  # suma skoków potrzebna dla rozwiązania dokładnego w chwili T\n",
    "    \n",
    "    return t, J, sum_of_jumps"
   ]
  },
  {
   "cell_type": "code",
   "execution_count": 15,
   "metadata": {},
   "outputs": [],
   "source": [
    "def Jump_adapted_path(S0, T, N, r, q, sigma, lam, p, eta_1, eta_2):\n",
    "    \n",
    "    t, J, Y = Compound_Poisson_path(T, N, lam, p, eta_1, eta_2)\n",
    "    \n",
    "    N_ = len(t)  # liczba elementów siatki\n",
    "    S = np.zeros(N_)  # tworzymy wektor wartości dla procesu S\n",
    "    S[0] = S0\n",
    "    \n",
    "    W = np.zeros(N_)  # proces Wienera\n",
    "    \n",
    "    # generujemy trajektorie procesu S\n",
    "    for i in range(N_ - 1):\n",
    "        h = t[i + 1] - t[i]\n",
    "        dW = np.sqrt(h) * np.random.normal(0, 1)\n",
    "        W[i + 1] = W[i] + dW\n",
    "        S[i + 1] = S[i] + a(S[i]) * h + b(S[i]) * dW + 0.5 * sigma ** 2 * S[i] * (dW ** 2 - h) # wartość przed skokiem\n",
    "        S[i + 1] = S[i + 1] + c(S[i + 1]) * (J[i + 1] - J[i])   # wartość po skoku\n",
    "    \n",
    "    return t, S, W[N_ - 1], Y  "
   ]
  },
  {
   "cell_type": "markdown",
   "metadata": {},
   "source": [
    "### Asymptotyczne tempo zbieżności"
   ]
  },
  {
   "cell_type": "code",
   "execution_count": 16,
   "metadata": {},
   "outputs": [],
   "source": [
    "def Jump_adapted_error(S0, T, N, r, q, sigma, lam, p, eta_1, eta_2):\n",
    "    \n",
    "    S, W, Y = Jump_adapted_path(S0, T, N, r, q, sigma, lam, p, eta_1, eta_2)[1:]\n",
    "    \n",
    "    S_T_exact = exact_value_T(S0, T, r, q, sigma, lam, p, eta_1, eta_2, W, Y)\n",
    "    error = np.abs(S_T_exact - S[-1])\n",
    "    \n",
    "    return error"
   ]
  },
  {
   "cell_type": "code",
   "execution_count": 17,
   "metadata": {},
   "outputs": [
    {
     "name": "stdout",
     "output_type": "stream",
     "text": [
      "Tempo zbieżności wynosi: -0.9865343897834478\n"
     ]
    },
    {
     "data": {
      "text/html": [
       "<div>\n",
       "<style scoped>\n",
       "    .dataframe tbody tr th:only-of-type {\n",
       "        vertical-align: middle;\n",
       "    }\n",
       "\n",
       "    .dataframe tbody tr th {\n",
       "        vertical-align: top;\n",
       "    }\n",
       "\n",
       "    .dataframe thead th {\n",
       "        text-align: right;\n",
       "    }\n",
       "</style>\n",
       "<table border=\"1\" class=\"dataframe\">\n",
       "  <thead>\n",
       "    <tr style=\"text-align: right;\">\n",
       "      <th></th>\n",
       "      <th>N</th>\n",
       "      <th>error</th>\n",
       "    </tr>\n",
       "  </thead>\n",
       "  <tbody>\n",
       "    <tr>\n",
       "      <th>0</th>\n",
       "      <td>10</td>\n",
       "      <td>0.068533</td>\n",
       "    </tr>\n",
       "    <tr>\n",
       "      <th>1</th>\n",
       "      <td>20</td>\n",
       "      <td>0.036476</td>\n",
       "    </tr>\n",
       "    <tr>\n",
       "      <th>2</th>\n",
       "      <td>40</td>\n",
       "      <td>0.018205</td>\n",
       "    </tr>\n",
       "    <tr>\n",
       "      <th>3</th>\n",
       "      <td>80</td>\n",
       "      <td>0.009508</td>\n",
       "    </tr>\n",
       "    <tr>\n",
       "      <th>4</th>\n",
       "      <td>160</td>\n",
       "      <td>0.004901</td>\n",
       "    </tr>\n",
       "    <tr>\n",
       "      <th>5</th>\n",
       "      <td>320</td>\n",
       "      <td>0.002311</td>\n",
       "    </tr>\n",
       "    <tr>\n",
       "      <th>6</th>\n",
       "      <td>640</td>\n",
       "      <td>0.001179</td>\n",
       "    </tr>\n",
       "    <tr>\n",
       "      <th>7</th>\n",
       "      <td>1280</td>\n",
       "      <td>0.000578</td>\n",
       "    </tr>\n",
       "  </tbody>\n",
       "</table>\n",
       "</div>"
      ],
      "text/plain": [
       "      N     error\n",
       "0    10  0.068533\n",
       "1    20  0.036476\n",
       "2    40  0.018205\n",
       "3    80  0.009508\n",
       "4   160  0.004901\n",
       "5   320  0.002311\n",
       "6   640  0.001179\n",
       "7  1280  0.000578"
      ]
     },
     "execution_count": 17,
     "metadata": {},
     "output_type": "execute_result"
    },
    {
     "data": {
      "image/png": "[encoded data removed]",
      "text/plain": [
       "<Figure size 792x432 with 1 Axes>"
      ]
     },
     "metadata": {
      "needs_background": "light"
     },
     "output_type": "display_data"
    }
   ],
   "source": [
    "# Sprawdzamy czy tempo zbieżności wynosi 1.0:\n",
    "k = 8\n",
    "num_of_sim = 1000\n",
    "num_of_steps = np.zeros(k, dtype = int)\n",
    "mean_errors = np.zeros(k)\n",
    "\n",
    "for i in range(k):\n",
    "    N = 10 * 2 ** i\n",
    "    num_of_steps[i] = N\n",
    "    sum_of_errors = 0\n",
    "    for j in range(num_of_sim):\n",
    "        sum_of_errors += Jump_adapted_error(S0, T, N, r, q, sigma, lam, p, eta_1, eta_2)\n",
    "    mean_errors[i] = sum_of_errors / num_of_sim\n",
    "    \n",
    "X = np.log(num_of_steps)\n",
    "Y = np.log(mean_errors)\n",
    "\n",
    "X = X.reshape((-1, 1))\n",
    "model = LinearRegression().fit(X, Y)\n",
    "\n",
    "print(\"Tempo zbieżności wynosi: \" + str(model.coef_[0]))\n",
    "\n",
    "plt.figure(figsize = (11, 6))\n",
    "plt.scatter(X, Y, color = 'g')\n",
    "plt.plot(X, model.predict(X), color = 'k')\n",
    "plt.text(4.5, -5.5, '$y=$'+str(round(model.coef_[0], 4))+'$x +$'+str(round(model.intercept_, 4)), fontsize = 12, rotation = -29)\n",
    "\n",
    "d = {'N': num_of_steps, 'error': mean_errors}\n",
    "pd.DataFrame(d)"
   ]
  },
  {
   "cell_type": "markdown",
   "metadata": {},
   "source": [
    "### Tempo zbieżności $\\gamma = 1.5$"
   ]
  },
  {
   "cell_type": "markdown",
   "metadata": {},
   "source": [
    "Stosując poniższy schemat uzyskujemy tempo zbieżności na poziomie $\\gamma = 1.5$:\n",
    "\n",
    "### $$\\boxed{\\begin{aligned}[t]\n",
    "\tS_{t_{n+1}-}&=S_{t_{n}}+a\\left(S_{t_{n}}\\right)\\Delta_{t_{n}}+b\\left(S_{t_{n}}\\right)\\Delta W_{t_n}+\\frac{b\\left(S_{t_{n}}\\right)b^{'}\\left(S_{t_{n}}\\right)}{2}\\left(\\left[\\Delta W_{t_{n}}\\right]^{2}-\\Delta_{t_{n}}\\right)\\\\\n",
    "\t&+a'\\left(S_{t_{n}}\\right)b\\left(S_{t_{n}}\\right)\\Delta Z_{t_{n}}+\\frac{1}{2}\\left(a\\left(S_{t_{n}}\\right)a'\\left(S_{t_{n}}\\right)+\\frac{1}{2}b^{2}\\left(S_{t_{n}}\\right)a''\\left(S_{t_{n}}\\right)\\right)\\left(\\Delta t_{n}\\right)^{2} \\\\\n",
    "    &+\\left(a\\left(S_{t_{n}}\\right)b'\\left(S_{t_{n}}\\right)+\\frac{1}{2}b^{2}\\left(S_{t_{n}}\\right)b''\\left(S_{t_{n}}\\right)\\right)\\left(\\Delta W_{t_{n}}\\Delta t_{n}-\\Delta Z_{t_{n}}\\right) \\\\\n",
    "    &+\\frac{1}{2}b\\left(S_{t_{n}}\\right)\\left(b\\left(S_{t_{n}}\\right)b''\\left(S_{t_{n}}\\right)+\\left[b'\\left(S_{t_{n}}\\right)\\right]^{2}\\right)\\left(\\frac{1}{3}\\left[\\Delta W_{t_{n}}\\right]^{2}-\\Delta t_{n}\\right)\\Delta W_{t_{n}},\n",
    "\t\\end{aligned}}$$\n",
    "    \n",
    "### $$\\boxed{S_{t_{n+1}}=S_{t_{n+1}-}+c(S_{t_{n+1}-})\\left(J_{t_{n+1}}-J_{t_{n}}\\right)}$$\n",
    "\n",
    "gdzie\n",
    "\n",
    "### $$\\Delta Z_{t_{n}}=\\int_{0}^{t_{n+1}}\\int_{t_{n}}^{s_{2}}dW_{s_{1}}ds_{2}\\sim\\mathcal{N}\\left(0,\\frac{1}{3}\\left(\\Delta t_{n}\\right)^{3}\\right)$$\n",
    "\n",
    "oraz\n",
    "\n",
    "### $$\\text{Cov}\\left(\\Delta Z_{t_{n}},\\Delta W_{t_{n}}\\right)=\\frac{1}{2}\\left(\\Delta t_{n}\\right)^{2}.$$\n",
    "\n",
    "Skorelowane procesy $\\Delta Z_{t_{n}}$ i $\\Delta W_{t_{n}}$ będziemy symulować w następujący sposób:\n",
    "\n",
    "### $$\\Delta W_{t_{n}}=U_{1}\\sqrt{\\Delta t_{n}}\\quad{\\rm oraz}\\quad\\Delta Z_{t_{n}}=\\frac{1}{2}\\left(\\Delta t_{n}\\right)^{\\frac{3}{2}}\\left(U_{1}+\\frac{1}{\\sqrt{3}}U_{2}\\right),\\qquad U_{1},U_{2}\\sim\\mathcal{N}\\left(0,1\\right).$$"
   ]
  },
  {
   "cell_type": "code",
   "execution_count": 18,
   "metadata": {},
   "outputs": [],
   "source": [
    "def Jump_adapted_v2_path(S0, T, N, r, q, sigma, lam, p, eta_1, eta_2):\n",
    "    \n",
    "    t, J, Y = Compound_Poisson_path(T, N, lam, p, eta_1, eta_2)\n",
    "    \n",
    "    N_ = len(t)  # liczba elementów siatki\n",
    "    S = np.zeros(N_)  # tworzymy wektor wartości dla procesu S\n",
    "    S[0] = S0\n",
    "    \n",
    "    W = np.zeros(N_)  # proces Wienera\n",
    "    \n",
    "    # generujemy trajektorie procesu S\n",
    "    for i in range(N_ - 1):\n",
    "        h = t[i + 1] - t[i]\n",
    "        U = np.random.normal(0, 1, 2)\n",
    "        dW = np.sqrt(h) * U[1]\n",
    "        dZ = 0.5 * h ** (3 / 2) * (U[0] + U[1] / np.sqrt(3))\n",
    "        W[i + 1] = W[i] + dW\n",
    "        S[i + 1] = S[i] + a(S[i]) * h + b(S[i]) * dW + 0.5 * sigma ** 2 * S[i] * (dW ** 2 - h) \\\n",
    "                   + a_x(S[i]) * b(S[i]) * dZ + 0.5 * (a(S[i]) * a_x(S[i]) + 0.5 * b(S[i]) ** 2 * a_xx(S[i])) * h ** 2 \\\n",
    "                   + (a(S[i]) * b_x(S[i]) + 0.5 * b(S[i]) ** 2 * b_xx(S[i])) * (dW * h - dZ) \\\n",
    "                   + 0.5 * b(S[i]) * (b(S[i]) * b_xx(S[i]) + b_x(S[i]) ** 2) * (1 / 3 * dW ** 2 - h) * dW \n",
    "        S[i + 1] = S[i + 1] + c(S[i + 1]) * (J[i + 1] - J[i])   # wartość po skoku\n",
    "    \n",
    "    return t, S, W[N_ - 1], Y  "
   ]
  },
  {
   "cell_type": "code",
   "execution_count": 19,
   "metadata": {},
   "outputs": [],
   "source": [
    "def Jump_adapted_v2_error(S0, T, N, r, q, sigma, lam, p, eta_1, eta_2):\n",
    "    \n",
    "    S, W, Y = Jump_adapted_v2_path(S0, T, N, r, q, sigma, lam, p, eta_1, eta_2)[1:]\n",
    "    \n",
    "    S_T_exact = exact_value_T(S0, T, r, q, sigma, lam, p, eta_1, eta_2, W, Y)\n",
    "    error = np.abs(S_T_exact - S[-1])\n",
    "    \n",
    "    return error"
   ]
  },
  {
   "cell_type": "code",
   "execution_count": 20,
   "metadata": {},
   "outputs": [
    {
     "name": "stdout",
     "output_type": "stream",
     "text": [
      "Tempo zbieżności wynosi: -1.4820890962211029\n"
     ]
    },
    {
     "data": {
      "text/html": [
       "<div>\n",
       "<style scoped>\n",
       "    .dataframe tbody tr th:only-of-type {\n",
       "        vertical-align: middle;\n",
       "    }\n",
       "\n",
       "    .dataframe tbody tr th {\n",
       "        vertical-align: top;\n",
       "    }\n",
       "\n",
       "    .dataframe thead th {\n",
       "        text-align: right;\n",
       "    }\n",
       "</style>\n",
       "<table border=\"1\" class=\"dataframe\">\n",
       "  <thead>\n",
       "    <tr style=\"text-align: right;\">\n",
       "      <th></th>\n",
       "      <th>N</th>\n",
       "      <th>error</th>\n",
       "    </tr>\n",
       "  </thead>\n",
       "  <tbody>\n",
       "    <tr>\n",
       "      <th>0</th>\n",
       "      <td>10</td>\n",
       "      <td>2.725889e-03</td>\n",
       "    </tr>\n",
       "    <tr>\n",
       "      <th>1</th>\n",
       "      <td>20</td>\n",
       "      <td>1.096871e-03</td>\n",
       "    </tr>\n",
       "    <tr>\n",
       "      <th>2</th>\n",
       "      <td>40</td>\n",
       "      <td>4.046673e-04</td>\n",
       "    </tr>\n",
       "    <tr>\n",
       "      <th>3</th>\n",
       "      <td>80</td>\n",
       "      <td>1.391371e-04</td>\n",
       "    </tr>\n",
       "    <tr>\n",
       "      <th>4</th>\n",
       "      <td>160</td>\n",
       "      <td>5.142301e-05</td>\n",
       "    </tr>\n",
       "    <tr>\n",
       "      <th>5</th>\n",
       "      <td>320</td>\n",
       "      <td>1.809147e-05</td>\n",
       "    </tr>\n",
       "    <tr>\n",
       "      <th>6</th>\n",
       "      <td>640</td>\n",
       "      <td>6.590304e-06</td>\n",
       "    </tr>\n",
       "    <tr>\n",
       "      <th>7</th>\n",
       "      <td>1280</td>\n",
       "      <td>2.163486e-06</td>\n",
       "    </tr>\n",
       "    <tr>\n",
       "      <th>8</th>\n",
       "      <td>2560</td>\n",
       "      <td>7.856662e-07</td>\n",
       "    </tr>\n",
       "    <tr>\n",
       "      <th>9</th>\n",
       "      <td>5120</td>\n",
       "      <td>2.858851e-07</td>\n",
       "    </tr>\n",
       "  </tbody>\n",
       "</table>\n",
       "</div>"
      ],
      "text/plain": [
       "      N         error\n",
       "0    10  2.725889e-03\n",
       "1    20  1.096871e-03\n",
       "2    40  4.046673e-04\n",
       "3    80  1.391371e-04\n",
       "4   160  5.142301e-05\n",
       "5   320  1.809147e-05\n",
       "6   640  6.590304e-06\n",
       "7  1280  2.163486e-06\n",
       "8  2560  7.856662e-07\n",
       "9  5120  2.858851e-07"
      ]
     },
     "execution_count": 20,
     "metadata": {},
     "output_type": "execute_result"
    },
    {
     "data": {
      "image/png": "[encoded data removed]",
      "text/plain": [
       "<Figure size 792x432 with 1 Axes>"
      ]
     },
     "metadata": {
      "needs_background": "light"
     },
     "output_type": "display_data"
    }
   ],
   "source": [
    "# Sprawdzamy czy tempo zbieżności wynosi 1.5:\n",
    "k = 10\n",
    "num_of_sim = 1000\n",
    "num_of_steps = np.zeros(k, dtype = int)\n",
    "mean_errors = np.zeros(k)\n",
    "\n",
    "for i in range(k):\n",
    "    N = 10 * 2 ** i\n",
    "    num_of_steps[i] = N\n",
    "    sum_of_errors = 0\n",
    "    for j in range(num_of_sim):\n",
    "        sum_of_errors += Jump_adapted_v2_error(S0, T, N, r, q, sigma, lam, p, eta_1, eta_2)\n",
    "    mean_errors[i] = sum_of_errors / num_of_sim\n",
    "    \n",
    "X = np.log(num_of_steps)\n",
    "Y = np.log(mean_errors)\n",
    "\n",
    "X = X.reshape((-1, 1))\n",
    "model = LinearRegression().fit(X, Y)\n",
    "\n",
    "print(\"Tempo zbieżności wynosi: \" + str(model.coef_[0]))\n",
    "\n",
    "# wykres\n",
    "plt.figure(figsize = (11, 6))\n",
    "plt.scatter(X, Y, color = 'g')\n",
    "plt.plot(X, model.predict(X), color = 'k')\n",
    "plt.text(4.5, -8.7, '$y=$'+str(round(model.coef_[0], 4))+'$x +$'+str(round(model.intercept_, 4)), fontsize = 12, rotation = -29)\n",
    "\n",
    "d = {'N': num_of_steps, 'error': mean_errors}\n",
    "pd.DataFrame(d)"
   ]
  },
  {
   "cell_type": "markdown",
   "metadata": {},
   "source": [
    "## Porównanie czasów wykonania dla poznanych metod"
   ]
  },
  {
   "cell_type": "code",
   "execution_count": 21,
   "metadata": {},
   "outputs": [
    {
     "name": "stdout",
     "output_type": "stream",
     "text": [
      "Czas generowania  1000  ścieżek (rozwiązanie dokładne): 11.4s\n",
      "Czas generowania  1000  ścieżek (Euler Scheme): 114.8s\n",
      "Czas generowania  1000  ścieżek (Jump-adapted scheme): 117.8s\n",
      "Czas generowania  1000  ścieżek (Jump-adapted scheme v2): 195.6s\n"
     ]
    }
   ],
   "source": [
    "num_of_sim = 1000\n",
    "\n",
    "start1 = time.time()\n",
    "for i in range(num_of_sim):\n",
    "    exact_path(S0, T, N, r, q, sigma, lam, p, eta_1, eta_2)   \n",
    "end1 = time.time()\n",
    "time1 = (end1 - start1) \n",
    "\n",
    "start2 = time.time()\n",
    "for i in range(num_of_sim):\n",
    "    Euler_path(S0, T, N, r, q, sigma, lam, p, eta_1, eta_2)\n",
    "end2 = time.time()\n",
    "time2 = (end2 - start2) \n",
    "\n",
    "start3 = time.time()\n",
    "for i in range(num_of_sim):\n",
    "    Jump_adapted_path(S0, T, N, r, q, sigma, lam, p, eta_1, eta_2)      \n",
    "end3 = time.time()\n",
    "time3 = (end3 - start3)\n",
    "\n",
    "start4 = time.time()\n",
    "for i in range(num_of_sim):\n",
    "    Jump_adapted_v2_path(S0, T, N, r, q, sigma, lam, p, eta_1, eta_2)      \n",
    "end4 = time.time()\n",
    "time4 = (end4 - start4) \n",
    "\n",
    "\n",
    "\n",
    "print(\"Czas generowania \", num_of_sim, \" ścieżek (rozwiązanie dokładne): {:.1f}s\".format(time1))\n",
    "print(\"Czas generowania \", num_of_sim, \" ścieżek (Euler Scheme): {:.1f}s\".format(time2))\n",
    "print(\"Czas generowania \", num_of_sim, \" ścieżek (Jump-adapted scheme): {:.1f}s\".format(time3))\n",
    "print(\"Czas generowania \", num_of_sim, \" ścieżek (Jump-adapted scheme v2): {:.1f}s\".format(time4))\n"
   ]
  },
  {
   "cell_type": "markdown",
   "metadata": {},
   "source": [
    "# Wycena opcji"
   ]
  },
  {
   "cell_type": "markdown",
   "metadata": {},
   "source": [
    "## Opcja Europejska"
   ]
  },
  {
   "cell_type": "code",
   "execution_count": 22,
   "metadata": {},
   "outputs": [],
   "source": [
    "T = 1 \n",
    "N = 252\n",
    "S0 = 100\n",
    "K = 95"
   ]
  },
  {
   "cell_type": "code",
   "execution_count": 23,
   "metadata": {},
   "outputs": [],
   "source": [
    "def Payoff(S_T, K, CallPut): \n",
    "    return np.maximum(S_T - K, 0) if CallPut == \"call\" else np.maximum(K - S_T, 0)"
   ]
  },
  {
   "cell_type": "code",
   "execution_count": 24,
   "metadata": {},
   "outputs": [],
   "source": [
    "def vanilla_price(S0, K, T, N, r, q, sigma, lam, p, eta_1, eta_2, num_of_sim, CallPut):\n",
    "    \n",
    "    payoffs = np.zeros(num_of_sim)\n",
    "    \n",
    "    for i in range(num_of_sim):\n",
    "        S = exact_path(S0, T, N, r, q, sigma, lam, p, eta_1, eta_2)[1]\n",
    "        payoffs[i] = Payoff(S[-1], K, CallPut)\n",
    "        \n",
    "    return np.exp(-r * T) * np.mean(payoffs)"
   ]
  },
  {
   "cell_type": "code",
   "execution_count": 25,
   "metadata": {},
   "outputs": [
    {
     "name": "stdout",
     "output_type": "stream",
     "text": [
      "Cena europejskiej opcji call wynosi:  12.19022148360022\n"
     ]
    }
   ],
   "source": [
    "call_price = vanilla_price(S0, K, T, 1, r, q, sigma, lam, p, eta_1, eta_2, 100000, \"call\")\n",
    "print(\"Cena europejskiej opcji call wynosi: \", call_price)"
   ]
  },
  {
   "cell_type": "markdown",
   "metadata": {},
   "source": [
    "# Opcja Barierowa"
   ]
  },
  {
   "cell_type": "markdown",
   "metadata": {},
   "source": [
    "### Z pojedyńczą bariera"
   ]
  },
  {
   "cell_type": "code",
   "execution_count": 26,
   "metadata": {},
   "outputs": [],
   "source": [
    "def barrier_price(S0, K, T, N, r, q, sigma, lam, p, eta_1, eta_2, num_of_sim, CallPut, barrier, BarType):\n",
    "\n",
    "    payoffs = []\n",
    "    \n",
    "    if BarType == \"UO\":\n",
    "        for i in range(1, num_of_sim + 1):\n",
    "            S = exact_path(S0, T, N, r, q, sigma, lam, p, eta_1, eta_2)[1]\n",
    "            if np.max(S) >= barrier:\n",
    "                payoff = 0\n",
    "            else: payoff = Payoff(S[-1], K, CallPut)\n",
    "            payoffs.append(payoff)\n",
    "        return np.exp(-r * T) * np.mean(payoffs)\n",
    "        \n",
    "    elif BarType == \"UI\":\n",
    "        for i in range(1, num_of_sim + 1):\n",
    "            S = exact_path(S0, T, N, r, q, sigma, lam, p, eta_1, eta_2)[1]\n",
    "            if np.max(S) < barrier:\n",
    "                payoff = 0\n",
    "            else: payoff = Payoff(S[-1], K, CallPut)\n",
    "            payoffs.append(payoff)\n",
    "        return np.exp(-r * T) * np.mean(payoffs)\n",
    "    \n",
    "    elif BarType == \"DO\":\n",
    "        for i in range(1, num_of_sim + 1):\n",
    "            S = exact_path(S0, T, N, r, q, sigma, lam, p, eta_1, eta_2)[1]\n",
    "            if np.min(S) <= barrier:\n",
    "                payoff = 0\n",
    "            else: payoff = Payoff(S[-1], K, CallPut)\n",
    "            payoffs.append(payoff)\n",
    "        return np.exp(-r * T) * np.mean(payoffs)\n",
    "    \n",
    "    elif BarType == \"DI\":\n",
    "        for i in range(1, num_of_sim + 1):\n",
    "            S = exact_path(S0, T, N, r, q, sigma, lam, p, eta_1, eta_2)[1]\n",
    "            if np.min(S) > barrier:\n",
    "                payoff = 0\n",
    "            else: payoff = Payoff(S[-1], K, CallPut)\n",
    "            payoffs.append(payoff)\n",
    "        return np.exp(-r * T) * np.mean(payoffs)"
   ]
  },
  {
   "cell_type": "code",
   "execution_count": 27,
   "metadata": {},
   "outputs": [
    {
     "name": "stdout",
     "output_type": "stream",
     "text": [
      "Cena opcji barierowej Down-and-Out Call wynosi:  9.310555672912066\n"
     ]
    }
   ],
   "source": [
    "barrier = 90\n",
    "barrier_price_ = barrier_price(S0, K, T, N, r, q, sigma, lam, p, eta_1, eta_2, 10000, \"call\", barrier, \"DO\")\n",
    "\n",
    "print(\"Cena opcji barierowej Down-and-Out Call wynosi: \", barrier_price_)"
   ]
  },
  {
   "cell_type": "markdown",
   "metadata": {},
   "source": [
    "### Z podwójną barierą "
   ]
  },
  {
   "cell_type": "code",
   "execution_count": 28,
   "metadata": {},
   "outputs": [],
   "source": [
    "def double_barrier_price(S0, K, T, N, r, q, sigma, lam, p, eta_1, eta_2, num_of_sim, CallPut, \\\n",
    "                         barrier_down, barrier_up, InOut):\n",
    "    \n",
    "    payoffs = np.zeros(num_of_sim)\n",
    "    \n",
    "    if InOut == \"In\":\n",
    "        for i in range(1, num_of_sim + 1):\n",
    "            S = exact_path(S0, T, N, r, q, sigma, lam, p, eta_1, eta_2)[1]\n",
    "            if (np.max(S) >= barrier_up or np.min(S) <= barrier_down):\n",
    "                payoffs[i - 1] = Payoff(S[-1], K, CallPut)\n",
    "            else: payoffs[i - 1] = 0\n",
    "        return np.exp(-r * T) * np.mean(payoffs)\n",
    "\n",
    "    if InOut == \"Out\":\n",
    "        for i in range(1, num_of_sim + 1):\n",
    "            S = exact_path(S0, T, N, r, q, sigma, lam, p, eta_1, eta_2)[1]\n",
    "            if (np.max(S) < barrier_up and np.min(S) > barrier_down):\n",
    "                payoffs[i - 1] = Payoff(S[-1], K, CallPut)\n",
    "            else: payoffs[i - 1] = 0\n",
    "                \n",
    "        return np.exp(-r * T) * np.mean(payoffs)"
   ]
  },
  {
   "cell_type": "code",
   "execution_count": 29,
   "metadata": {},
   "outputs": [
    {
     "name": "stdout",
     "output_type": "stream",
     "text": [
      "Cena opcji Call z podwójną barierą typu In wynosi:  4.5118152471725805\n"
     ]
    }
   ],
   "source": [
    "barrier_up = 150\n",
    "barrier_down = 80\n",
    "\n",
    "double_barrier_price_ = double_barrier_price(S0, K, T, N, r, q, sigma, lam, p, eta_1, eta_2, 10000, \"call\", barrier_down, barrier_up, \"In\")\n",
    "\n",
    "print(\"Cena opcji Call z podwójną barierą typu In wynosi: \", double_barrier_price_)"
   ]
  },
  {
   "cell_type": "markdown",
   "metadata": {},
   "source": [
    "# Opcja Lookback"
   ]
  },
  {
   "cell_type": "markdown",
   "metadata": {},
   "source": [
    "### Ze stałą ceną realizacji (fixed strike lookback option)\n",
    "#### $$H_{\\rm{call}} = \\left(\\max_{t\\in [0,T]}S_t - K, 0\\right)^+$$\n",
    "#### $$H_{\\rm{put}} = \\left(K - \\min_{t\\in [0,T]}S_t, 0\\right)^+$$"
   ]
  },
  {
   "cell_type": "code",
   "execution_count": 30,
   "metadata": {},
   "outputs": [],
   "source": [
    "def fixed_lookback_price(S0, K, T, N, r, q, sigma, lam, p, eta_1, eta_2, num_of_sim, CallPut):\n",
    "    \n",
    "    payoffs = np.zeros(num_of_sim)\n",
    "    \n",
    "    for i in range(num_of_sim):\n",
    "        S = exact_path(S0, T, N, r, q, sigma, lam, p, eta_1, eta_2)[1]\n",
    "        payoffs[i] = np.maximum(np.max(S) - K, 0) if CallPut == \"call\" else np.maximum(K - np.min(S), 0)\n",
    "    \n",
    "    return np.exp(-r * T) * np.mean(payoffs)"
   ]
  },
  {
   "cell_type": "code",
   "execution_count": 31,
   "metadata": {},
   "outputs": [
    {
     "name": "stdout",
     "output_type": "stream",
     "text": [
      "Cena opcji Lookback Call ze stałą ceną realizacji wynosi:  24.076120047506265\n"
     ]
    }
   ],
   "source": [
    "fixed_lookback_price_ = fixed_lookback_price(S0, K, T, N, r, q, sigma, lam, p, eta_1, eta_2, 10000, \"call\")\n",
    "\n",
    "print(\"Cena opcji Lookback Call ze stałą ceną realizacji wynosi: \", fixed_lookback_price_)"
   ]
  },
  {
   "cell_type": "markdown",
   "metadata": {},
   "source": [
    "### Ze zmienną ceną realizacji (floating strike lookback option)\n",
    "#### $$H_{\\rm{call}} = S_T - \\min_{t\\in [0,T]}S_t$$\n",
    "#### $$H_{\\rm{put}} = \\max_{t\\in [0,T]}S_t - S_T$$"
   ]
  },
  {
   "cell_type": "code",
   "execution_count": 32,
   "metadata": {},
   "outputs": [],
   "source": [
    "def floating_lookback_price(S0, T, N, r, q, sigma, lam, p, eta_1, eta_2, num_of_sim, CallPut):\n",
    "    \n",
    "    payoffs = np.zeros(num_of_sim)\n",
    "    \n",
    "    for i in range(num_of_sim):\n",
    "        S = exact_path(S0, T, N, r, q, sigma, lam, p, eta_1, eta_2)[1]\n",
    "        payoffs[i] = S[-1] - np.min(S) if CallPut == \"call\" else np.max(S) - S[-1]\n",
    "    \n",
    "    return np.exp(-r * T) * np.mean(payoffs)"
   ]
  },
  {
   "cell_type": "code",
   "execution_count": 33,
   "metadata": {},
   "outputs": [
    {
     "name": "stdout",
     "output_type": "stream",
     "text": [
      "Cena opcji Lookback Call ze zmienną ceną realizacji wynosi:  16.703031454212507\n"
     ]
    }
   ],
   "source": [
    "floating_lookback_price_ = floating_lookback_price(S0, T, N, r, q, sigma, lam, p, eta_1, eta_2, 10000, 'call')\n",
    "\n",
    "print(\"Cena opcji Lookback Call ze zmienną ceną realizacji wynosi: \", floating_lookback_price_)"
   ]
  },
  {
   "cell_type": "markdown",
   "metadata": {},
   "source": [
    "# Opcja azjatycka"
   ]
  },
  {
   "cell_type": "markdown",
   "metadata": {},
   "source": [
    "### Średnia geometryczna"
   ]
  },
  {
   "cell_type": "markdown",
   "metadata": {},
   "source": [
    "#### $$H_{\\rm{call}} = \\left(\\left[\\prod_{i=1}^{N}S_{t_i}\\right]^{1/N} - K\\right)^{+}$$\n",
    "#### $$H_{\\rm{put}} = \\left(K - \\left[\\prod_{i=1}^{N}S_{t_i}\\right]^{1/N}\\right)^{+}$$"
   ]
  },
  {
   "cell_type": "code",
   "execution_count": 34,
   "metadata": {},
   "outputs": [],
   "source": [
    "def geometric_asian_price(S0, T, N, r, q, sigma, lam, p, eta_1, eta_2, num_of_sim, CallPut):\n",
    "\n",
    "    payoffs = np.zeros(num_of_sim)\n",
    "    \n",
    "    for i in range(num_of_sim):\n",
    "        S = exact_path(S0, T, N, r, q, sigma, lam, p, eta_1, eta_2)[1]\n",
    "        geom_aver = 1\n",
    "        for j in range(1, N + 1):\n",
    "            geom_aver *= S[j] ** (1 / N)\n",
    "        payoffs[i] = np.maximum(geom_aver - K, 0) if CallPut == \"call\" \\\n",
    "                 else np.maximum(K - geom_aver, 0)\n",
    "    \n",
    "    return np.exp(-r * T) * np.mean(payoffs)"
   ]
  },
  {
   "cell_type": "code",
   "execution_count": 35,
   "metadata": {},
   "outputs": [
    {
     "name": "stdout",
     "output_type": "stream",
     "text": [
      "Cena Azjatyckiej opcji Call ze średnią geometryczną wynosi:  7.951617208540079\n"
     ]
    }
   ],
   "source": [
    "geom_price = geometric_asian_price(S0, T, N, r, q, sigma, lam, p, eta_1, eta_2, 10000, \"call\")\n",
    "print(\"Cena Azjatyckiej opcji Call ze średnią geometryczną wynosi: \", geom_price)"
   ]
  },
  {
   "cell_type": "markdown",
   "metadata": {},
   "source": [
    "### Średnia arytmetyczna"
   ]
  },
  {
   "cell_type": "markdown",
   "metadata": {},
   "source": [
    "#### $$H_{\\rm{call}} = \\left(\\frac{1}{N}\\sum_{i=1}^{N}S_{t_i} - K\\right)^{+}$$\n",
    "#### $$H_{\\rm{put}} = \\left(K - \\frac{1}{N}\\sum_{i=1}^{N}S_{t_i}\\right)^{+}$$"
   ]
  },
  {
   "cell_type": "code",
   "execution_count": 36,
   "metadata": {},
   "outputs": [],
   "source": [
    "def arithmetic_asian_price(S0, T, N, r, q, sigma, lam, p, eta_1, eta_2, num_of_sim, CallPut):\n",
    "\n",
    "    payoffs = np.zeros(num_of_sim)\n",
    "    \n",
    "    for i in range(num_of_sim):\n",
    "        S = exact_path(S0, T, N, r, q, sigma, lam, p, eta_1, eta_2)[1]\n",
    "        arithmetic_average = np.mean(S[1:])\n",
    "        payoffs[i] = np.maximum(arithmetic_average - K, 0) if CallPut == \"call\" \\\n",
    "                                else np.maximum(K - arithmetic_average, 0)\n",
    "    \n",
    "    return np.exp(-r * T) * np.mean(payoffs)"
   ]
  },
  {
   "cell_type": "code",
   "execution_count": 37,
   "metadata": {},
   "outputs": [
    {
     "name": "stdout",
     "output_type": "stream",
     "text": [
      "Cena Azjatyckiej opcji Call ze średnią arytmetyczną wynosi:  8.478093672305723\n"
     ]
    }
   ],
   "source": [
    "arithmetic_price = arithmetic_asian_price(S0, T, N, r, q, sigma, lam, p, eta_1, eta_2, 10000, \"call\")\n",
    "print(\"Cena Azjatyckiej opcji Call ze średnią arytmetyczną wynosi: \", arithmetic_price)"
   ]
  },
  {
   "cell_type": "markdown",
   "metadata": {},
   "source": [
    "# Bibliografia\n",
    "$\\textit{Approximation of Jump Diffusions in Finance and Economics}$, \n",
    "\n",
    "$\\textbf{Nicola Bruti-Liberati and Eckhard Platen}$\n",
    "\n",
    "https://www.uts.edu.au/sites/default/files/qfr-archive-02/QFR-rp176.pdf"
   ]
  },
  {
   "cell_type": "code",
   "execution_count": null,
   "metadata": {},
   "outputs": [],
   "source": []
  },
  {
   "cell_type": "code",
   "execution_count": null,
   "metadata": {},
   "outputs": [],
   "source": []
  }
 ],
 "metadata": {
  "kernelspec": {
   "display_name": "Python 3",
   "language": "python",
   "name": "python3"
  },
  "language_info": {
   "codemirror_mode": {
    "name": "ipython",
    "version": 3
   },
   "file_extension": ".py",
   "mimetype": "text/x-python",
   "name": "python",
   "nbconvert_exporter": "python",
   "pygments_lexer": "ipython3",
   "version": "3.8.3"
  }
 },
 "nbformat": 4,
 "nbformat_minor": 4
}
